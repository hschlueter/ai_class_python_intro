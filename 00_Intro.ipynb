{
 "cells": [
  {
   "cell_type": "markdown",
   "metadata": {},
   "source": [
    "[![MLR](mlr3.png)](https://ipvs.informatik.uni-stuttgart.de/mlr/marc/teaching/14-ArtificialIntelligence/)\n",
    "\n",
    "# AI Class: Programming Introduction\n",
    "[AI Class Homepage](https://ipvs.informatik.uni-stuttgart.de/mlr/teaching/robotics/)\n",
    "\n",
    "**http://goo.gl/V1bkCE** <-- this document (non-interactive version)\n",
    "\n",
    "Outline:\n",
    "- [00: Intro](http://nbviewer.ipython.org/github/sotte/ai_class_python_intro/blob/master/00_Intro.ipynb)  <-- this document\n",
    "- [01: Python](http://nbviewer.ipython.org/github/sotte/ai_class_python_intro/blob/master/01_Python.ipynb)\n",
    "- [02: Git](http://nbviewer.ipython.org/github/sotte/ai_class_python_intro/blob/master/02_git.ipynb)\n",
    "\n",
    "```\n",
    "For interactive version:\n",
    "1. Download jupyter, (with git bash): $ pip install jupyter\n",
    "2. start the interactive version: $ ipython notebook\n",
    "```"
   ]
  },
  {
   "cell_type": "markdown",
   "metadata": {},
   "source": [
    "## Orga\n",
    "- *Groups?*\n",
    "- *TODO: Mailinglist registered*? Do it!\n",
    "- *TODO: Explain the [exercises](https://sully.informatik.uni-stuttgart.de/gitlab/ai_lecture/group_74)*? \n",
    "\n",
    "## Learning Goals for this Lecture\n",
    "You should be able to complete the AI exercises (from a programming language point of view).\n",
    "\n",
    "1. \"Understand basic Python\"\n",
    "- Be familiar with Python's Unittests and Doctests\n",
    "- Git pull/push your execises and solutions\n",
    "\n",
    "There are small programming exercises to give you feedback! Try them!\n",
    "\n",
    "\n",
    "## Survey\n",
    "TODO: do a quick survey about python experiences\n",
    "\n",
    "- X% have no experimence\n",
    "- X% have some experimence\n",
    "- the rest uses python regularly"
   ]
  },
  {
   "cell_type": "markdown",
   "metadata": {},
   "source": [
    "# Topics Outline\n",
    "## Python Topics\n",
    "- General Intro\n",
    "    - INDENTATION!\n",
    "    - Duck Typing\n",
    "    - Interactive and REPL\n",
    "    - help() and ?\n",
    "    - type() and dir()\n",
    "- Control\n",
    "    - if, while, for\n",
    "- Datastructures\n",
    "    - list, dict, tuple, set,\n",
    "    - list comprehensions\n",
    "\n",
    "\n",
    "- Functions and Classes\n",
    "\n",
    "- Unittests and Doctests\n",
    "\n",
    "- PyCharm, IPython notebook, libs: numpy and matplotlib\n",
    "\n",
    "\n",
    "## Git Topics\n",
    "- clone, pull, push, add, commit"
   ]
  },
  {
   "cell_type": "markdown",
   "metadata": {
    "slideshow": {
     "slide_type": "-"
    }
   },
   "source": [
    "# Exercises\n",
    "The exercises in this tutorial are voluntary but will improve your python and git foo.\n",
    "\n",
    "Do the exercises from the python lecture.\n",
    "\n",
    "Follow the [git tutorial](https://try.github.io/levels/1/challenges/1).\n",
    "\n",
    "\n",
    "# References\n",
    "**Python:**\n",
    "- https://scipy-lectures.github.io/index.html\n",
    "- http://learnxinyminutes.com/docs/python/\n",
    "- https://docs.python.org/2/tutorial/\n",
    "- http://learnpythonthehardway.org/\n",
    "\n",
    "**Git:**\n",
    "- https://try.github.io/levels/1/challenges/1\n",
    "- http://rogerdudler.github.io/git-guide/index.de.html\n",
    "- http://git-scm.com/book\n",
    "- [Windows git GUI](http://www.sourcetreeapp.com/)"
   ]
  }
 ],
 "metadata": {
  "kernelspec": {
   "display_name": "Python 2",
   "language": "python",
   "name": "python2"
  },
  "language_info": {
   "codemirror_mode": {
    "name": "ipython",
    "version": 2
   },
   "file_extension": ".py",
   "mimetype": "text/x-python",
   "name": "python",
   "nbconvert_exporter": "python",
   "pygments_lexer": "ipython2",
   "version": "2.7.10"
  }
 },
 "nbformat": 4,
 "nbformat_minor": 0
}
