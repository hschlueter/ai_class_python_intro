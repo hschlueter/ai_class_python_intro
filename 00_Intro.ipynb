{
 "metadata": {
  "name": "",
  "signature": "sha256:7cf3cdaadcccb8ddb8476f551a381d61d63d629b8bd47e4e429a17c4136a6ab5"
 },
 "nbformat": 3,
 "nbformat_minor": 0,
 "worksheets": [
  {
   "cells": [
    {
     "cell_type": "markdown",
     "metadata": {},
     "source": [
      "[![MLR](mlr3.png)](https://ipvs.informatik.uni-stuttgart.de/mlr/marc/teaching/14-ArtificialIntelligence/)\n",
      "\n",
      "# AI Class: Programming Introduction\n",
      "[AI Class Homepage](https://ipvs.informatik.uni-stuttgart.de/mlr/marc/teaching/14-ArtificialIntelligence/)\n",
      "\n",
      "**http://goo.gl/V1bkCE** <-- this document (non-interactive version)\n",
      "\n",
      "Outline:\n",
      "- [00: Intro](http://nbviewer.ipython.org/github/sotte/ai_class_python_intro/blob/master/00_Intro.ipynb)\n",
      "- [01: Python](http://nbviewer.ipython.org/github/sotte/ai_class_python_intro/blob/master/01_Python.ipynb)\n",
      "- [02: Git](http://nbviewer.ipython.org/github/sotte/ai_class_python_intro/blob/master/02_git.ipynb)"
     ]
    },
    {
     "cell_type": "markdown",
     "metadata": {},
     "source": [
      "## Orga\n",
      "- *TODO: Mailinglist registered*? Do it!\n",
      "- *TODO: Explain the [exercises](https://sully.informatik.uni-stuttgart.de/gitlab/ai_lecture/group_74)*? \n",
      "\n",
      "## Learning Goals for this Lecture\n",
      "You should be able to complete the AI exercises (from a programming language point of view).\n",
      "\n",
      "1. \"Understand basic Python\"\n",
      "- Be familiar with Unittests and Doctests\n",
      "- Pull and push your execises (git)\n",
      "\n",
      "Feedback: small programming exercises for you! Try them! if you have problems solving them **talk to me after the next AI class!**\n",
      "\n",
      "\n",
      "## Survey\n",
      "~~TODO: Stefan, do a quick survey about python experiences~~\n",
      "\n",
      "- ~48% have no experimence\n",
      "- ~48% have some experimence\n",
      "- the rest uses python regularly"
     ]
    },
    {
     "cell_type": "markdown",
     "metadata": {
      "slideshow": {
       "slide_type": "-"
      }
     },
     "source": [
      "## Python Topics\n",
      "- General Intro\n",
      "    - INDENTATION!\n",
      "    - Duck Typing\n",
      "    - Interactive and REPL\n",
      "    - help() and ?\n",
      "    - type() and dir()\n",
      "- Control\n",
      "    - if, while, for\n",
      "- Datastructures\n",
      "    - list, dict, tuple, set,\n",
      "    - list comprehensions\n",
      "\n",
      "\n",
      "- Functions and Classes\n",
      "\n",
      "- Unittests and Doctests\n",
      "\n",
      "- PyCharm, IPython notebook, libs: numpy and matplotlib\n",
      "\n",
      "\n",
      "## Git Topics\n",
      "- clone, pull, push, add, commit\n",
      "\n",
      "# Homework\n",
      "This is voluntary but will improve your python and git foo.\n",
      "\n",
      "Do the exercises from the python lecture.\n",
      "\n",
      "Follow the [git tutorial](https://try.github.io/levels/1/challenges/1).\n",
      "\n",
      "\n",
      "# References\n",
      "**Python:**\n",
      "- https://scipy-lectures.github.io/index.html\n",
      "- http://learnxinyminutes.com/docs/python/\n",
      "- https://docs.python.org/2/tutorial/\n",
      "- http://learnpythonthehardway.org/\n",
      "\n",
      "**Git:**\n",
      "- https://try.github.io/levels/1/challenges/1\n",
      "- http://rogerdudler.github.io/git-guide/index.de.html\n",
      "- http://git-scm.com/book\n",
      "- [Windows git GUI](http://www.sourcetreeapp.com/)\n"
     ]
    }
   ],
   "metadata": {}
  }
 ]
}