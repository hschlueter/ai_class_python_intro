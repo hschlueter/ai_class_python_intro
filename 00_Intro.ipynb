{
 "metadata": {
  "name": "",
  "signature": "sha256:faa5155a145ab35115de5bd50006c025fd38ca461b22990c83398ccf6d6e3d4c"
 },
 "nbformat": 3,
 "nbformat_minor": 0,
 "worksheets": [
  {
   "cells": [
    {
     "cell_type": "markdown",
     "metadata": {},
     "source": [
      "# AI Class: Programming Introduction\n",
      "[AI Class Homepage](https://ipvs.informatik.uni-stuttgart.de/mlr/marc/teaching/14-ArtificialIntelligence/)\n",
      "\n",
      "SHORTURL1\n",
      "\n",
      "nbviewer python\n",
      "\n",
      "nbviewer git\n",
      "\n",
      "## Orga\n",
      "- *TODO: mailinglist registered*?\n",
      "- *TODO: explain the exercises*?\n",
      "\n",
      "## Learning Goals for this Lecture\n",
      "You should be able to complete the AI exercises (from a programming language point of view).\n",
      "\n",
      "1. \"Understand basic Python\"\n",
      "- Be familiar with Unittests and Doctests\n",
      "- Pull and push your execises (git)\n",
      "\n",
      "Feedback: small programming exercises for you! Try them, if you have problems solving them **talk to me after the next AI class!**\n",
      "\n",
      "\n",
      "## Survey\n",
      "*TODO: Stefan, do a quick survey*"
     ]
    },
    {
     "cell_type": "code",
     "collapsed": false,
     "input": [
      "import pandas as pd\n",
      "data = [[0, 0, 0],\n",
      "        [0, 0, 0]]\n",
      "before = pd.DataFrame(data=data,\n",
      "                      columns=[\"Never used it\", \"Used it a bit\", \"Familiar\"],\n",
      "                      index=[\"Python\", \"git\"])\n",
      "before"
     ],
     "language": "python",
     "metadata": {},
     "outputs": [],
     "prompt_number": null
    },
    {
     "cell_type": "code",
     "collapsed": false,
     "input": [
      "import numpy as np\n",
      "import matplotlib.pyplot as plt\n",
      "import seaborn as sns\n",
      "%matplotlib inline\n",
      "\n",
      "data = [.3, .7]\n",
      "dom = range(len(data))\n",
      "plt.bar(dom, data)"
     ],
     "language": "python",
     "metadata": {},
     "outputs": [],
     "prompt_number": null
    },
    {
     "cell_type": "markdown",
     "metadata": {
      "slideshow": {
       "slide_type": "-"
      }
     },
     "source": [
      "## Python Topics\n",
      "- General Intro\n",
      "    - INDENTATION! Dynamic!\n",
      "    - Interactive and REPL\n",
      "    - help() and ?\n",
      "    - type() and dir()\n",
      "- Control\n",
      "    - if, while, for\n",
      "- Datastructures\n",
      "    - list, dict, tuple, set,\n",
      "    - list comprehensions\n",
      "\n",
      "\n",
      "- Functions and Classes\n",
      "\n",
      "- Unittests and Doctests\n",
      "\n",
      "- PyCharm\n",
      "- IPython notebook\n",
      "- Libraries: numpy and matplotlib\n",
      "\n",
      "\n",
      "## Git Topics\n",
      "- clone, pull, push, add, commit\n",
      "\n",
      "\n",
      "# References\n",
      "## Python\n",
      "- http://learnxinyminutes.com/docs/python/\n",
      "- https://docs.python.org/2/tutorial/\n",
      "- http://learnpythonthehardway.org/\n",
      "\n",
      "## Git\n",
      "- http://git-scm.com/book"
     ]
    }
   ],
   "metadata": {}
  }
 ]
}