{
 "metadata": {
  "name": "",
  "signature": "sha256:7114d8e51408b764310b11600fc72116b27c151748f893fcd4123026caa3d160"
 },
 "nbformat": 3,
 "nbformat_minor": 0,
 "worksheets": [
  {
   "cells": [
    {
     "cell_type": "markdown",
     "metadata": {},
     "source": [
      "# AI Class: Programming Introduction\n",
      "[AI Class Homepage](https://ipvs.informatik.uni-stuttgart.de/mlr/marc/teaching/14-ArtificialIntelligence/)\n",
      "\n",
      "\n",
      "## Topic Python\n",
      "- INDENTATION!\n",
      "- Dynamic\n",
      "- Interactive and REPL\n",
      "- help() and ?\n",
      "- Datastructures\n",
      "    - list, dict, tuple, set,\n",
      "    - list comprehensions\n",
      "- Control\n",
      "    - if, while, for\n",
      "\n",
      "    \n",
      "- Functions and Classes\n",
      "\n",
      "\n",
      "- PyCharm\n",
      "- IPython notebook\n",
      "- Unittests and Doctests\n",
      "- Libraries: numpy and matplotlib\n",
      "\n",
      "\n",
      "## Topic git\n",
      "\n",
      "\n",
      "## Learning Goals\n",
      "\n",
      "## References\n",
      "- https://docs.python.org/2/tutorial/\n",
      "- http://learnpythonthehardway.org/\n",
      "- "
     ]
    },
    {
     "cell_type": "markdown",
     "metadata": {},
     "source": [
      "## List Comprehension Example\n",
      "\n",
      "Let's implement [entropy function](http://en.wikipedia.org/wiki/Entropy_%28information_theory%29#Definition)\n",
      "$$\n",
      "    H(X) = - \\sum_i P(x_i) \\log P(x_i)\n",
      "$$"
     ]
    },
    {
     "cell_type": "code",
     "collapsed": false,
     "input": [
      "from math import log\n",
      "\n",
      "\n",
      "def entropy(X):\n",
      "    return - sum([p * log(p)\n",
      "                  for p in X\n",
      "                  if p])\n",
      "\n",
      "X = [.5, .5]\n",
      "print(entropy(X))\n",
      "\n",
      "\n",
      "\n",
      "X = [1, 0]\n",
      "print(entropy(X))"
     ],
     "language": "python",
     "metadata": {},
     "outputs": [],
     "prompt_number": null
    },
    {
     "cell_type": "markdown",
     "metadata": {},
     "source": [
      "Compute the decimals of Pi using the Wallis formula:\n",
      "\n",
      "$$\n",
      "\\pi \\approx 2 \\prod_{i=1}^{\\infty} \\frac{4i^2}{4i^2 -1}\n",
      "$$"
     ]
    },
    {
     "cell_type": "code",
     "collapsed": true,
     "input": [
      "import numpy as np\n",
      "from __future__ import division\n",
      "\n",
      "result = 2 * np.prod([(4. * i ** 2) / (4 * i**2 -1)\n",
      "                      for i in range(1, 100)])\n",
      "print result\n",
      "print np.pi\n",
      "print np.pi - result"
     ],
     "language": "python",
     "metadata": {},
     "outputs": [],
     "prompt_number": null
    },
    {
     "cell_type": "markdown",
     "metadata": {},
     "source": [
      "# Git\n",
      "![git concepts](git_concepts.png)\n",
      "\n",
      "## Settings\n",
      "\n",
      "```\n",
      "$ git config --global user.name \"John Doe\"\n",
      "$ git config --global user.email johndoe@example.com\n",
      "$ git config --global color.ui true\n",
      "```"
     ]
    },
    {
     "cell_type": "code",
     "collapsed": false,
     "input": [],
     "language": "python",
     "metadata": {},
     "outputs": []
    }
   ],
   "metadata": {}
  }
 ]
}