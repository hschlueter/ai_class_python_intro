{
 "metadata": {
  "name": "",
  "signature": "sha256:4128cbc643fd94eeff3c9cd509d2485c27d5691c9509b10b3d413712b6af2feb"
 },
 "nbformat": 3,
 "nbformat_minor": 0,
 "worksheets": [
  {
   "cells": [
    {
     "cell_type": "markdown",
     "metadata": {
      "slideshow": {
       "slide_type": "-"
      }
     },
     "source": [
      "# AI Class: Programming Introduction\n",
      "[AI Class Homepage](https://ipvs.informatik.uni-stuttgart.de/mlr/marc/teaching/14-ArtificialIntelligence/)\n",
      "\n",
      "\n",
      "## Topic Python\n",
      "- General Intro\n",
      "    - INDENTATION! Dynamic!\n",
      "    - Interactive and REPL\n",
      "    - help() and ?\n",
      "    - type() and dir()\n",
      "- Control\n",
      "    - if, while, for\n",
      "- Datastructures\n",
      "    - list, dict, tuple, set,\n",
      "    - list comprehensions\n",
      "\n",
      "\n",
      "- Functions and Classes\n",
      "\n",
      "- Unittests and Doctests\n",
      "\n",
      "- PyCharm\n",
      "- IPython notebook\n",
      "- Libraries: numpy and matplotlib\n",
      "\n",
      "\n",
      "## Topic git\n",
      "\n",
      "\n",
      "## Learning Goals\n",
      "\n",
      "## References\n",
      "- https://docs.python.org/2/tutorial/\n",
      "- http://learnpythonthehardway.org/\n",
      "- http://learnxinyminutes.com/docs/python/"
     ]
    },
    {
     "cell_type": "markdown",
     "metadata": {},
     "source": [
      "# Python: Control Flow"
     ]
    },
    {
     "cell_type": "code",
     "collapsed": false,
     "input": [
      "# if/elif/else\n",
      "a = 4\n",
      "if a > 5:\n",
      "    print \"bigger than 5\"\n",
      "elif a == 5:\n",
      "    print \"FIVE\"\n",
      "else:\n",
      "    print 'something else: ' + str(a)"
     ],
     "language": "python",
     "metadata": {},
     "outputs": [],
     "prompt_number": null
    },
    {
     "cell_type": "code",
     "collapsed": false,
     "input": [
      "a = 4\n",
      "a = \"bigger\" if a > 3 else \"smaller\"\n",
      "a"
     ],
     "language": "python",
     "metadata": {},
     "outputs": [],
     "prompt_number": null
    },
    {
     "cell_type": "code",
     "collapsed": false,
     "input": [
      "# for\n",
      "for i in range(2):\n",
      "    print i"
     ],
     "language": "python",
     "metadata": {},
     "outputs": [],
     "prompt_number": null
    },
    {
     "cell_type": "code",
     "collapsed": false,
     "input": [
      "movies = [\"Her\", \"Moon\", \"Pacific Rim\", \"Robot and Frank\"]\n",
      "for movie in movies:\n",
      "    print movie"
     ],
     "language": "python",
     "metadata": {},
     "outputs": [],
     "prompt_number": null
    },
    {
     "cell_type": "code",
     "collapsed": false,
     "input": [
      "for i, movie in enumerate(movies):\n",
      "    print i, movie"
     ],
     "language": "python",
     "metadata": {},
     "outputs": [],
     "prompt_number": null
    },
    {
     "cell_type": "code",
     "collapsed": false,
     "input": [
      "# while\n",
      "i = 0\n",
      "while True:\n",
      "    print i\n",
      "    i += 1\n",
      "    if i > 5:\n",
      "        break"
     ],
     "language": "python",
     "metadata": {},
     "outputs": [],
     "prompt_number": null
    },
    {
     "cell_type": "markdown",
     "metadata": {},
     "source": [
      "# Python: Data Structures"
     ]
    },
    {
     "cell_type": "code",
     "collapsed": false,
     "input": [
      "# list\n",
      "print list()\n",
      "print []"
     ],
     "language": "python",
     "metadata": {},
     "outputs": [],
     "prompt_number": null
    },
    {
     "cell_type": "code",
     "collapsed": false,
     "input": [
      "movies = [\"Her\", \"Moon\", \"Pacific Rim\", \"Robot and Frank\"]\n",
      "movies"
     ],
     "language": "python",
     "metadata": {},
     "outputs": [],
     "prompt_number": null
    },
    {
     "cell_type": "code",
     "collapsed": false,
     "input": [
      "movies.append(another robot movie)"
     ],
     "language": "python",
     "metadata": {},
     "outputs": [],
     "prompt_number": null
    },
    {
     "cell_type": "code",
     "collapsed": false,
     "input": [
      "movies = movies + [\"Nummer 5\", \"I, Robot\", \"2001\"]\n",
      "movies"
     ],
     "language": "python",
     "metadata": {},
     "outputs": [],
     "prompt_number": null
    },
    {
     "cell_type": "code",
     "collapsed": false,
     "input": [
      "# slicing\n",
      "print movies\n",
      "print movies[0]"
     ],
     "language": "python",
     "metadata": {},
     "outputs": [],
     "prompt_number": null
    },
    {
     "cell_type": "code",
     "collapsed": false,
     "input": [
      "print movies[1]"
     ],
     "language": "python",
     "metadata": {},
     "outputs": [],
     "prompt_number": null
    },
    {
     "cell_type": "code",
     "collapsed": false,
     "input": [
      "print movies[0:2]"
     ],
     "language": "python",
     "metadata": {},
     "outputs": [],
     "prompt_number": null
    },
    {
     "cell_type": "code",
     "collapsed": false,
     "input": [
      "print movies[:2]"
     ],
     "language": "python",
     "metadata": {},
     "outputs": [],
     "prompt_number": null
    },
    {
     "cell_type": "code",
     "collapsed": false,
     "input": [
      "print movies[-1]"
     ],
     "language": "python",
     "metadata": {},
     "outputs": [],
     "prompt_number": null
    },
    {
     "cell_type": "code",
     "collapsed": false,
     "input": [
      "print movies[-2]"
     ],
     "language": "python",
     "metadata": {},
     "outputs": [],
     "prompt_number": null
    },
    {
     "cell_type": "code",
     "collapsed": false,
     "input": [
      "print movies[::2]"
     ],
     "language": "python",
     "metadata": {},
     "outputs": [],
     "prompt_number": null
    },
    {
     "cell_type": "code",
     "collapsed": false,
     "input": [
      "# Dictionaries\n",
      "print dict()\n",
      "print {}"
     ],
     "language": "python",
     "metadata": {},
     "outputs": [],
     "prompt_number": null
    },
    {
     "cell_type": "code",
     "collapsed": false,
     "input": [
      "d = {\"Her\": 4,\n",
      "     \"Moon\": 5,\n",
      "     \"Pacific Rim\": 5,\n",
      "     \"Robot and Frank\": 4.}\n",
      "d"
     ],
     "language": "python",
     "metadata": {},
     "outputs": [],
     "prompt_number": null
    },
    {
     "cell_type": "code",
     "collapsed": false,
     "input": [
      "d[\"Her\"]"
     ],
     "language": "python",
     "metadata": {},
     "outputs": [],
     "prompt_number": null
    },
    {
     "cell_type": "code",
     "collapsed": false,
     "input": [
      "\"Her\" in d"
     ],
     "language": "python",
     "metadata": {},
     "outputs": [],
     "prompt_number": null
    },
    {
     "cell_type": "code",
     "collapsed": false,
     "input": [
      "d.keys()"
     ],
     "language": "python",
     "metadata": {},
     "outputs": [],
     "prompt_number": null
    },
    {
     "cell_type": "code",
     "collapsed": false,
     "input": [
      "d.values()"
     ],
     "language": "python",
     "metadata": {},
     "outputs": [],
     "prompt_number": null
    },
    {
     "cell_type": "code",
     "collapsed": false,
     "input": [
      "for k in d:\n",
      "    print k, d[k]"
     ],
     "language": "python",
     "metadata": {},
     "outputs": [],
     "prompt_number": null
    },
    {
     "cell_type": "code",
     "collapsed": false,
     "input": [
      "# tuples\n",
      "3, 4"
     ],
     "language": "python",
     "metadata": {},
     "outputs": [],
     "prompt_number": null
    },
    {
     "cell_type": "code",
     "collapsed": false,
     "input": [
      "(3, 4)"
     ],
     "language": "python",
     "metadata": {},
     "outputs": [],
     "prompt_number": null
    },
    {
     "cell_type": "code",
     "collapsed": false,
     "input": [
      "type((3,4))"
     ],
     "language": "python",
     "metadata": {},
     "outputs": [],
     "prompt_number": null
    },
    {
     "cell_type": "code",
     "collapsed": false,
     "input": [
      "t = 3, 4\n",
      "print t[0]\n",
      "print t[1]"
     ],
     "language": "python",
     "metadata": {},
     "outputs": [],
     "prompt_number": null
    },
    {
     "cell_type": "code",
     "collapsed": false,
     "input": [
      "# set\n",
      "set([3, 3, 3, 2, 2, 1])"
     ],
     "language": "python",
     "metadata": {},
     "outputs": [],
     "prompt_number": null
    },
    {
     "cell_type": "markdown",
     "metadata": {},
     "source": [
      "## List Comprehension Example"
     ]
    },
    {
     "cell_type": "code",
     "collapsed": false,
     "input": [
      "[i*i for i in range(10)]"
     ],
     "language": "python",
     "metadata": {},
     "outputs": [],
     "prompt_number": null
    },
    {
     "cell_type": "code",
     "collapsed": false,
     "input": [
      "[i for i in range(10) if i % 2]"
     ],
     "language": "python",
     "metadata": {},
     "outputs": [],
     "prompt_number": null
    },
    {
     "cell_type": "markdown",
     "metadata": {},
     "source": [
      "Let's implement [entropy function](http://en.wikipedia.org/wiki/Entropy_%28information_theory%29#Definition)\n",
      "$$\n",
      "    H(X) = - \\sum_i P(x_i) \\log P(x_i)\n",
      "$$"
     ]
    },
    {
     "cell_type": "code",
     "collapsed": false,
     "input": [
      "from math import log\n",
      "\n",
      "X = [.5, .5]\n",
      "print - sum([p * log(p) for p in X])"
     ],
     "language": "python",
     "metadata": {},
     "outputs": [],
     "prompt_number": null
    },
    {
     "cell_type": "markdown",
     "metadata": {},
     "source": [
      "Compute the decimals of Pi using the Wallis formula:\n",
      "\n",
      "$$\n",
      "\\pi \\approx 2 \\prod_{i=1}^{\\infty} \\frac{4i^2}{4i^2 -1}\n",
      "$$"
     ]
    },
    {
     "cell_type": "code",
     "collapsed": true,
     "input": [
      "import numpy as np\n",
      "from __future__ import division\n",
      "\n",
      "result = 2 * np.prod([(4. * i ** 2) / (4 * i**2 -1)\n",
      "                      for i in range(1, 100)])\n",
      "print result\n",
      "print np.pi\n",
      "print np.pi - result"
     ],
     "language": "python",
     "metadata": {},
     "outputs": []
    },
    {
     "cell_type": "markdown",
     "metadata": {},
     "source": [
      "# Python: Functions and Classes"
     ]
    },
    {
     "cell_type": "code",
     "collapsed": false,
     "input": [
      "def square(x):\n",
      "    return x * x\n",
      "\n",
      "square(5)"
     ],
     "language": "python",
     "metadata": {},
     "outputs": [],
     "prompt_number": null
    },
    {
     "cell_type": "code",
     "collapsed": false,
     "input": [
      "class Node(object):\n",
      "    def __init__(self, value=None, left=None, right=None):\n",
      "        self.value = value\n",
      "        self.left = left\n",
      "        self.right = right\n",
      "    \n",
      "    def cut(self):\n",
      "        self.left = None\n",
      "        self.right = None\n",
      "\n",
      "        \n",
      "tree = Node(\"lecture\", Node(\"python\"), Node(\"git\"))\n",
      "print tree\n",
      "print tree.value\n",
      "print tree.left.value"
     ],
     "language": "python",
     "metadata": {},
     "outputs": [],
     "prompt_number": null
    },
    {
     "cell_type": "code",
     "collapsed": false,
     "input": [
      "class Node(object):\n",
      "    def __init__(self, value=None, left=None, right=None):\n",
      "        self.value = value\n",
      "        self.left = left\n",
      "        self.right = right\n",
      "    \n",
      "    def cut(self):\n",
      "        self.left = None\n",
      "        self.right = None\n",
      "        \n",
      "    def children(self):\n",
      "        return self.left, self.right\n",
      "    \n",
      "    def __str__(self):\n",
      "        return str([\"{}: {}\".format(c.value, c)\n",
      "                    for c in self.children() if c])\n",
      "        \n",
      "\n",
      "        \n",
      "tree = Node(\"lecture\",\n",
      "            Node(\"python\", Node(\"data structures\"), Node(\"Control\")),\n",
      "            Node(\"git\"))\n",
      "print tree"
     ],
     "language": "python",
     "metadata": {},
     "outputs": [],
     "prompt_number": null
    },
    {
     "cell_type": "markdown",
     "metadata": {},
     "source": [
      "# Python: Misc\n",
      "- PyCharm\n",
      "- IPython notebook\n",
      "- Libraries: numpy and matplotlib"
     ]
    },
    {
     "cell_type": "code",
     "collapsed": false,
     "input": [
      "import numpy as np\n",
      "np.zeros((3, 3))"
     ],
     "language": "python",
     "metadata": {},
     "outputs": [],
     "prompt_number": null
    },
    {
     "cell_type": "code",
     "collapsed": false,
     "input": [
      "A = np.ones((3, 3))\n",
      "B = np.random.random((3, 3))\n",
      "A + B"
     ],
     "language": "python",
     "metadata": {},
     "outputs": [],
     "prompt_number": null
    },
    {
     "cell_type": "code",
     "collapsed": false,
     "input": [
      "A * B  # element wise multiplication"
     ],
     "language": "python",
     "metadata": {},
     "outputs": [],
     "prompt_number": null
    },
    {
     "cell_type": "code",
     "collapsed": false,
     "input": [
      "A.dot(B)  # matrix multiplication\n",
      "np.dot(A, B) "
     ],
     "language": "python",
     "metadata": {},
     "outputs": [],
     "prompt_number": null
    },
    {
     "cell_type": "markdown",
     "metadata": {},
     "source": [
      "# Git\n",
      "![git concepts](git_concepts.png)\n",
      "\n",
      "## Settings\n",
      "\n",
      "```\n",
      "$ git config --global user.name \"John Doe\"\n",
      "$ git config --global user.email johndoe@example.com\n",
      "$ git config --global color.ui true\n",
      "```"
     ]
    },
    {
     "cell_type": "code",
     "collapsed": false,
     "input": [],
     "language": "python",
     "metadata": {},
     "outputs": []
    }
   ],
   "metadata": {}
  }
 ]
}