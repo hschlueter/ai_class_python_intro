{
 "metadata": {
  "name": "",
  "signature": "sha256:c434e4c55db33ab3d2589807360d427ea03d3f3d4aee85d62de99adf45520276"
 },
 "nbformat": 3,
 "nbformat_minor": 0,
 "worksheets": [
  {
   "cells": [
    {
     "cell_type": "markdown",
     "metadata": {},
     "source": [
      "# Python: Intro/Misc\n",
      "\n",
      "www.python.org about python:\n",
      "> Python is a programming language that lets you work more quickly and integrate your systems more effectively.\"\n",
      "\n",
      "\n",
      "Wikipedia about python:\n",
      "> Python is a widely used general-purpose, high-level programming language. Its design philosophy emphasizes code readability, and its syntax allows programmers to express concepts in fewer lines of code than would be possible in languages such as C. The language provides constructs intended to enable clear programs on both a small and large scale.\n",
      ">\n",
      "> Python supports multiple programming paradigms, including object-oriented, imperative and functional programming or procedural styles. It features a dynamic type system and automatic memory management and has a large and comprehensive standard library.\"\n",
      "\n",
      "XKCD about python:\n",
      "![Python](http://imgs.xkcd.com/comics/python.png)\n",
      "\n",
      "Notes:\n",
      "- Python is different from Java\n",
      "- INDENTATION: use 4 spaces\n",
      "- [PEP8](http://legacy.python.org/dev/peps/pep-0008/) style guide\n",
      "- Interactive and REPL: python, ipython, bpython\n",
      "- [PyCharm](https://www.jetbrains.com/pycharm/)\n",
      "- help() and ?\n",
      "- type() and dir()\n",
      "- IPython notebook"
     ]
    },
    {
     "cell_type": "markdown",
     "metadata": {},
     "source": [
      "# Python: Control Flow"
     ]
    },
    {
     "cell_type": "code",
     "collapsed": false,
     "input": [
      "# if/elif/else\n",
      "a = 6\n",
      "if a > 5:\n",
      "    print \"bigger than 5\"\n",
      "elif a == 5:\n",
      "    print \"FIVE\"\n",
      "else:\n",
      "    print 'something else: ' + str(a)"
     ],
     "language": "python",
     "metadata": {},
     "outputs": [
      {
       "output_type": "stream",
       "stream": "stdout",
       "text": [
        "bigger than 5\n"
       ]
      }
     ],
     "prompt_number": 1
    },
    {
     "cell_type": "code",
     "collapsed": false,
     "input": [
      "a = 4\n",
      "a = \"bigger\" if a > 3 else \"smaller\"\n",
      "a"
     ],
     "language": "python",
     "metadata": {},
     "outputs": [
      {
       "metadata": {},
       "output_type": "pyout",
       "prompt_number": 2,
       "text": [
        "'bigger'"
       ]
      }
     ],
     "prompt_number": 2
    },
    {
     "cell_type": "code",
     "collapsed": false,
     "input": [
      "# for (int i = 0; i < 2; i++) {\n",
      "#   system.out.println(i);\n",
      "# }\n",
      "for i in range(2):\n",
      "    print i"
     ],
     "language": "python",
     "metadata": {},
     "outputs": [
      {
       "output_type": "stream",
       "stream": "stdout",
       "text": [
        "0\n",
        "1\n"
       ]
      }
     ],
     "prompt_number": 3
    },
    {
     "cell_type": "code",
     "collapsed": false,
     "input": [
      "range(10)"
     ],
     "language": "python",
     "metadata": {},
     "outputs": [
      {
       "metadata": {},
       "output_type": "pyout",
       "prompt_number": 4,
       "text": [
        "[0, 1, 2, 3, 4, 5, 6, 7, 8, 9]"
       ]
      }
     ],
     "prompt_number": 4
    },
    {
     "cell_type": "code",
     "collapsed": false,
     "input": [
      "movies = [\"Her\", \"Moon\", \"Pacific Rim\", \"Robot and Frank\"]\n",
      "for movie in movies:\n",
      "    print movie"
     ],
     "language": "python",
     "metadata": {},
     "outputs": [
      {
       "output_type": "stream",
       "stream": "stdout",
       "text": [
        "Her\n",
        "Moon\n",
        "Pacific Rim\n",
        "Robot and Frank\n"
       ]
      }
     ],
     "prompt_number": 5
    },
    {
     "cell_type": "code",
     "collapsed": false,
     "input": [
      "for i, movie in enumerate(movies):\n",
      "    print i, movie"
     ],
     "language": "python",
     "metadata": {},
     "outputs": [
      {
       "output_type": "stream",
       "stream": "stdout",
       "text": [
        "0 Her\n",
        "1 Moon\n",
        "2 Pacific Rim\n",
        "3 Robot and Frank\n"
       ]
      }
     ],
     "prompt_number": 6
    },
    {
     "cell_type": "code",
     "collapsed": false,
     "input": [
      "for i, movie in zip(range(len(movies)), movies):\n",
      "    print i, movie"
     ],
     "language": "python",
     "metadata": {},
     "outputs": [
      {
       "output_type": "stream",
       "stream": "stdout",
       "text": [
        "0 Her\n",
        "1 Moon\n",
        "2 Pacific Rim\n",
        "3 Robot and Frank\n"
       ]
      }
     ],
     "prompt_number": 7
    },
    {
     "cell_type": "code",
     "collapsed": false,
     "input": [
      "print enumerate(movie)\n",
      "print zip(range(len(movies)), movies)"
     ],
     "language": "python",
     "metadata": {},
     "outputs": [
      {
       "output_type": "stream",
       "stream": "stdout",
       "text": [
        "<enumerate object at 0x20898c0>\n",
        "[(0, 'Her'), (1, 'Moon'), (2, 'Pacific Rim'), (3, 'Robot and Frank')]\n"
       ]
      }
     ],
     "prompt_number": 8
    },
    {
     "cell_type": "code",
     "collapsed": false,
     "input": [
      "# while\n",
      "i = 0\n",
      "while True:\n",
      "    while True:\n",
      "        print i\n",
      "        i += 1\n",
      "        if i > 5:\n",
      "            break\n",
      "            \n",
      "    print \"outer\"\n",
      "    break"
     ],
     "language": "python",
     "metadata": {},
     "outputs": [
      {
       "output_type": "stream",
       "stream": "stdout",
       "text": [
        "0\n",
        "1\n",
        "2\n",
        "3\n",
        "4\n",
        "5\n",
        "outer\n"
       ]
      }
     ],
     "prompt_number": 9
    },
    {
     "cell_type": "markdown",
     "metadata": {},
     "source": [
      "# Python: Data Structures"
     ]
    },
    {
     "cell_type": "code",
     "collapsed": false,
     "input": [
      "# list\n",
      "print list()\n",
      "print []"
     ],
     "language": "python",
     "metadata": {},
     "outputs": [
      {
       "output_type": "stream",
       "stream": "stdout",
       "text": [
        "[]\n",
        "[]\n"
       ]
      }
     ],
     "prompt_number": 10
    },
    {
     "cell_type": "code",
     "collapsed": false,
     "input": [
      "movies = [\"Her\", \"Moon\", \"Pacific Rim\", \"Robot and Frank\"]\n",
      "movies"
     ],
     "language": "python",
     "metadata": {},
     "outputs": [
      {
       "metadata": {},
       "output_type": "pyout",
       "prompt_number": 11,
       "text": [
        "['Her', 'Moon', 'Pacific Rim', 'Robot and Frank']"
       ]
      }
     ],
     "prompt_number": 11
    },
    {
     "cell_type": "code",
     "collapsed": false,
     "input": [
      "movies.append(\"wall-e\")\n",
      "movies"
     ],
     "language": "python",
     "metadata": {},
     "outputs": [
      {
       "metadata": {},
       "output_type": "pyout",
       "prompt_number": 12,
       "text": [
        "['Her', 'Moon', 'Pacific Rim', 'Robot and Frank', 'wall-e']"
       ]
      }
     ],
     "prompt_number": 12
    },
    {
     "cell_type": "code",
     "collapsed": false,
     "input": [
      "movies = movies + [\"Nummer 5\", \"I, Robot\", \"2001\"]\n",
      "movies"
     ],
     "language": "python",
     "metadata": {},
     "outputs": [
      {
       "metadata": {},
       "output_type": "pyout",
       "prompt_number": 13,
       "text": [
        "['Her',\n",
        " 'Moon',\n",
        " 'Pacific Rim',\n",
        " 'Robot and Frank',\n",
        " 'wall-e',\n",
        " 'Nummer 5',\n",
        " 'I, Robot',\n",
        " '2001']"
       ]
      }
     ],
     "prompt_number": 13
    },
    {
     "cell_type": "code",
     "collapsed": false,
     "input": [
      "import copy\n",
      "copy.deepcopy(movies)"
     ],
     "language": "python",
     "metadata": {},
     "outputs": [
      {
       "metadata": {},
       "output_type": "pyout",
       "prompt_number": 14,
       "text": [
        "['Her',\n",
        " 'Moon',\n",
        " 'Pacific Rim',\n",
        " 'Robot and Frank',\n",
        " 'wall-e',\n",
        " 'Nummer 5',\n",
        " 'I, Robot',\n",
        " '2001']"
       ]
      }
     ],
     "prompt_number": 14
    },
    {
     "cell_type": "code",
     "collapsed": false,
     "input": [
      "# slicing\n",
      "print movies\n",
      "print movies[0]"
     ],
     "language": "python",
     "metadata": {},
     "outputs": [
      {
       "output_type": "stream",
       "stream": "stdout",
       "text": [
        "['Her', 'Moon', 'Pacific Rim', 'Robot and Frank', 'wall-e', 'Nummer 5', 'I, Robot', '2001']\n",
        "Her\n"
       ]
      }
     ],
     "prompt_number": 15
    },
    {
     "cell_type": "code",
     "collapsed": false,
     "input": [
      "print movies[1]"
     ],
     "language": "python",
     "metadata": {},
     "outputs": [
      {
       "output_type": "stream",
       "stream": "stdout",
       "text": [
        "Moon\n"
       ]
      }
     ],
     "prompt_number": 16
    },
    {
     "cell_type": "code",
     "collapsed": false,
     "input": [
      "print movies[0:2]"
     ],
     "language": "python",
     "metadata": {},
     "outputs": [
      {
       "output_type": "stream",
       "stream": "stdout",
       "text": [
        "['Her', 'Moon']\n"
       ]
      }
     ],
     "prompt_number": 17
    },
    {
     "cell_type": "code",
     "collapsed": false,
     "input": [
      "print movies[:2]"
     ],
     "language": "python",
     "metadata": {},
     "outputs": [
      {
       "output_type": "stream",
       "stream": "stdout",
       "text": [
        "['Her', 'Moon']\n"
       ]
      }
     ],
     "prompt_number": 18
    },
    {
     "cell_type": "code",
     "collapsed": false,
     "input": [
      "print movies[-1]"
     ],
     "language": "python",
     "metadata": {},
     "outputs": [
      {
       "output_type": "stream",
       "stream": "stdout",
       "text": [
        "2001\n"
       ]
      }
     ],
     "prompt_number": 19
    },
    {
     "cell_type": "code",
     "collapsed": false,
     "input": [
      "print movies[-2]"
     ],
     "language": "python",
     "metadata": {},
     "outputs": [
      {
       "output_type": "stream",
       "stream": "stdout",
       "text": [
        "I, Robot\n"
       ]
      }
     ],
     "prompt_number": 20
    },
    {
     "cell_type": "code",
     "collapsed": false,
     "input": [
      "print movies[3::2]"
     ],
     "language": "python",
     "metadata": {},
     "outputs": [
      {
       "output_type": "stream",
       "stream": "stdout",
       "text": [
        "['Robot and Frank', 'Nummer 5', '2001']\n"
       ]
      }
     ],
     "prompt_number": 21
    },
    {
     "cell_type": "code",
     "collapsed": false,
     "input": [
      "# Dictionaries\n",
      "print dict()\n",
      "print {}"
     ],
     "language": "python",
     "metadata": {},
     "outputs": [
      {
       "output_type": "stream",
       "stream": "stdout",
       "text": [
        "{}\n",
        "{}\n"
       ]
      }
     ],
     "prompt_number": 22
    },
    {
     "cell_type": "code",
     "collapsed": false,
     "input": [
      "d = {\"Her\": 4,\n",
      "     \"Moon\": 5,\n",
      "     \"Pacific Rim\": 5,\n",
      "     \"Robot and Frank\": 4.,\n",
      "}\n",
      "d"
     ],
     "language": "python",
     "metadata": {},
     "outputs": [
      {
       "metadata": {},
       "output_type": "pyout",
       "prompt_number": 23,
       "text": [
        "{'Her': 4, 'Moon': 5, 'Pacific Rim': 5, 'Robot and Frank': 4.0}"
       ]
      }
     ],
     "prompt_number": 23
    },
    {
     "cell_type": "code",
     "collapsed": false,
     "input": [
      "d[\"Her\"]"
     ],
     "language": "python",
     "metadata": {},
     "outputs": [
      {
       "metadata": {},
       "output_type": "pyout",
       "prompt_number": 24,
       "text": [
        "4"
       ]
      }
     ],
     "prompt_number": 24
    },
    {
     "cell_type": "code",
     "collapsed": false,
     "input": [
      "\"Her\" in movies"
     ],
     "language": "python",
     "metadata": {},
     "outputs": [
      {
       "metadata": {},
       "output_type": "pyout",
       "prompt_number": 25,
       "text": [
        "True"
       ]
      }
     ],
     "prompt_number": 25
    },
    {
     "cell_type": "code",
     "collapsed": false,
     "input": [
      "d.keys()"
     ],
     "language": "python",
     "metadata": {},
     "outputs": [
      {
       "metadata": {},
       "output_type": "pyout",
       "prompt_number": 26,
       "text": [
        "['Robot and Frank', 'Pacific Rim', 'Her', 'Moon']"
       ]
      }
     ],
     "prompt_number": 26
    },
    {
     "cell_type": "code",
     "collapsed": false,
     "input": [
      "type(d.values())"
     ],
     "language": "python",
     "metadata": {},
     "outputs": [
      {
       "metadata": {},
       "output_type": "pyout",
       "prompt_number": 27,
       "text": [
        "list"
       ]
      }
     ],
     "prompt_number": 27
    },
    {
     "cell_type": "code",
     "collapsed": false,
     "input": [
      "for (key, value) in d.iteritems():\n",
      "    print key, value"
     ],
     "language": "python",
     "metadata": {},
     "outputs": [
      {
       "output_type": "stream",
       "stream": "stdout",
       "text": [
        "Robot and Frank 4.0\n",
        "Pacific Rim 5\n",
        "Her 4\n",
        "Moon 5\n"
       ]
      }
     ],
     "prompt_number": 28
    },
    {
     "cell_type": "code",
     "collapsed": false,
     "input": [
      "# tuples\n",
      "3, 4"
     ],
     "language": "python",
     "metadata": {},
     "outputs": [
      {
       "metadata": {},
       "output_type": "pyout",
       "prompt_number": 29,
       "text": [
        "(3, 4)"
       ]
      }
     ],
     "prompt_number": 29
    },
    {
     "cell_type": "code",
     "collapsed": false,
     "input": [
      "(3, 4)"
     ],
     "language": "python",
     "metadata": {},
     "outputs": [
      {
       "metadata": {},
       "output_type": "pyout",
       "prompt_number": 30,
       "text": [
        "(3, 4)"
       ]
      }
     ],
     "prompt_number": 30
    },
    {
     "cell_type": "code",
     "collapsed": false,
     "input": [
      "type((3,4))"
     ],
     "language": "python",
     "metadata": {},
     "outputs": [
      {
       "metadata": {},
       "output_type": "pyout",
       "prompt_number": 31,
       "text": [
        "tuple"
       ]
      }
     ],
     "prompt_number": 31
    },
    {
     "cell_type": "code",
     "collapsed": false,
     "input": [
      "t = 3, 4, 3\n",
      "print t[0]\n",
      "print t[1]\n",
      "print t[2]"
     ],
     "language": "python",
     "metadata": {},
     "outputs": [
      {
       "output_type": "stream",
       "stream": "stdout",
       "text": [
        "3\n",
        "4\n",
        "3\n"
       ]
      }
     ],
     "prompt_number": 32
    },
    {
     "cell_type": "code",
     "collapsed": false,
     "input": [
      "# set\n",
      "set([3, 0, 3, 15, 3, 2, 2, 1, 15])"
     ],
     "language": "python",
     "metadata": {},
     "outputs": [
      {
       "metadata": {},
       "output_type": "pyout",
       "prompt_number": 33,
       "text": [
        "{0, 1, 2, 3, 15}"
       ]
      }
     ],
     "prompt_number": 33
    },
    {
     "cell_type": "markdown",
     "metadata": {},
     "source": [
      "## List Comprehension Example"
     ]
    },
    {
     "cell_type": "code",
     "collapsed": false,
     "input": [
      "[i for i in range(10)]"
     ],
     "language": "python",
     "metadata": {},
     "outputs": [
      {
       "metadata": {},
       "output_type": "pyout",
       "prompt_number": 34,
       "text": [
        "[0, 1, 2, 3, 4, 5, 6, 7, 8, 9]"
       ]
      }
     ],
     "prompt_number": 34
    },
    {
     "cell_type": "code",
     "collapsed": false,
     "input": [
      "[i*i for i in range(10)]"
     ],
     "language": "python",
     "metadata": {},
     "outputs": [
      {
       "metadata": {},
       "output_type": "pyout",
       "prompt_number": 35,
       "text": [
        "[0, 1, 4, 9, 16, 25, 36, 49, 64, 81]"
       ]
      }
     ],
     "prompt_number": 35
    },
    {
     "cell_type": "code",
     "collapsed": false,
     "input": [
      "[i for i in range(10) if i % 2 == 0]"
     ],
     "language": "python",
     "metadata": {},
     "outputs": [
      {
       "metadata": {},
       "output_type": "pyout",
       "prompt_number": 36,
       "text": [
        "[0, 2, 4, 6, 8]"
       ]
      }
     ],
     "prompt_number": 36
    },
    {
     "cell_type": "markdown",
     "metadata": {},
     "source": [
      "Let's implement [entropy function](http://en.wikipedia.org/wiki/Entropy_%28information_theory%29#Definition)\n",
      "$$\n",
      "    H(X) = - \\sum_i P(x_i) \\log P(x_i)\n",
      "$$"
     ]
    },
    {
     "cell_type": "code",
     "collapsed": false,
     "input": [
      "from __future__ import division\n",
      "from math import log\n",
      "import numpy as np\n",
      "import operator\n",
      "from numpy import prod\n",
      "\n",
      "l = [.3, .1, .6]\n",
      "# YOUR TURN"
     ],
     "language": "python",
     "metadata": {},
     "outputs": [],
     "prompt_number": 37
    },
    {
     "cell_type": "markdown",
     "metadata": {},
     "source": [
      "Compute Pi using the [Wallis product](http://en.wikipedia.org/wiki/Wallis_product):\n",
      "$$\n",
      "\\pi \\approx 2 \\prod_{i=1}^{\\infty} \\frac{4i^2}{4i^2 -1}\n",
      "$$"
     ]
    },
    {
     "cell_type": "code",
     "collapsed": true,
     "input": [
      "def prod(iterable):\n",
      "    return reduce(operator.mul, iterable, 1)\n",
      "\n",
      "# YOUR TURN"
     ],
     "language": "python",
     "metadata": {},
     "outputs": [],
     "prompt_number": 38
    },
    {
     "cell_type": "markdown",
     "metadata": {},
     "source": [
      "# Python: Functions and Classes"
     ]
    },
    {
     "cell_type": "code",
     "collapsed": false,
     "input": [
      "def square(x):\n",
      "    \"\"\"Documentation of square.\"\"\"     \n",
      "    return x * x\n",
      "\n",
      "    \n",
      "square(5)"
     ],
     "language": "python",
     "metadata": {},
     "outputs": [
      {
       "metadata": {},
       "output_type": "pyout",
       "prompt_number": 39,
       "text": [
        "25"
       ]
      }
     ],
     "prompt_number": 39
    },
    {
     "cell_type": "code",
     "collapsed": false,
     "input": [
      "class Node(object):\n",
      "    \"\"\"Doc of the class.\n",
      "    \n",
      "    Sometimes the c'tor is documented here.\n",
      "    \n",
      "    \"\"\"\n",
      "    def __init__(self, value=None, left=None, right=None):\n",
      "        self.value = value\n",
      "        self.left = left\n",
      "        self.right = right\n",
      "    \n",
      "    def cut(self):\n",
      "        \"\"\"Doc of the function cut.\"\"\"\n",
      "        self.left = None\n",
      "        self.right = None\n",
      "\n",
      "        \n",
      "tree = Node(\"lecture\", Node(\"python\"), Node(\"git\"))\n",
      "print tree\n",
      "print tree.value\n",
      "print tree.left.value"
     ],
     "language": "python",
     "metadata": {},
     "outputs": [
      {
       "output_type": "stream",
       "stream": "stdout",
       "text": [
        "<__main__.Node object at 0x25a1690>\n",
        "lecture\n",
        "python\n"
       ]
      }
     ],
     "prompt_number": 40
    },
    {
     "cell_type": "code",
     "collapsed": false,
     "input": [
      "type(None)"
     ],
     "language": "python",
     "metadata": {},
     "outputs": [
      {
       "metadata": {},
       "output_type": "pyout",
       "prompt_number": 41,
       "text": [
        "NoneType"
       ]
      }
     ],
     "prompt_number": 41
    },
    {
     "cell_type": "code",
     "collapsed": false,
     "input": [
      "class Node(object):\n",
      "    def __init__(self, value=None, left=None, right=None):\n",
      "        self.value = value\n",
      "        self.left = left\n",
      "        self.right = right\n",
      "    \n",
      "    def cut(self):\n",
      "        self.left = None\n",
      "        self.right = None\n",
      "        \n",
      "    def children(self):\n",
      "        return self.left, self.right\n",
      "    \n",
      "    def __str__(self):\n",
      "        return str([\"{}: {}\".format(c.value, c)\n",
      "                    for c in self.children() if c])\n",
      "        \n",
      "tree = Node(\"lecture\", Node(\"python\"), Node(\"git\"))\n",
      "print tree\n",
      "print tree.value\n",
      "print tree.left.value"
     ],
     "language": "python",
     "metadata": {},
     "outputs": [
      {
       "output_type": "stream",
       "stream": "stdout",
       "text": [
        "['python: []', 'git: []']\n",
        "lecture\n",
        "python\n"
       ]
      }
     ],
     "prompt_number": 42
    },
    {
     "cell_type": "code",
     "collapsed": false,
     "input": [
      "tree = Node(\"lecture\",\n",
      "            Node(\"python\", Node(\"data structures\"), Node(\"Control\")),\n",
      "            Node(\"git\"))\n",
      "print tree"
     ],
     "language": "python",
     "metadata": {},
     "outputs": [
      {
       "output_type": "stream",
       "stream": "stdout",
       "text": [
        "[\"python: ['data structures: []', 'Control: []']\", 'git: []']\n"
       ]
      }
     ],
     "prompt_number": 43
    },
    {
     "cell_type": "markdown",
     "metadata": {},
     "source": [
      "# Doctest and Unittests"
     ]
    },
    {
     "cell_type": "code",
     "collapsed": false,
     "input": [
      "#%load fib.py"
     ],
     "language": "python",
     "metadata": {},
     "outputs": [],
     "prompt_number": 44
    },
    {
     "cell_type": "code",
     "collapsed": false,
     "input": [
      "def fibbonacci(n):\n",
      "    \"\"\"\n",
      "    The n-th Fibbonacci number is the sum of the previous two fibbonacci\n",
      "    numbers where the first and second Fibbonacci number are 1.\n",
      "\n",
      "    :math: F_n = F_{n-1} + F_{n-2}\n",
      "\n",
      "    Examples:\n",
      "    ---------\n",
      "    >>> fibbonacci(1)\n",
      "    1\n",
      "    >>> fibbonacci(2)\n",
      "    1\n",
      "    >>> fibbonacci(3)\n",
      "    2\n",
      "    >>> fibbonacci(4)\n",
      "    3\n",
      "    >>> fibbonacci(5)\n",
      "    5\n",
      "    >>> fibbonacci(6)\n",
      "    8\n",
      "\n",
      "    \"\"\"\n",
      "    if n == 1:\n",
      "        return 1\n",
      "    elif n == 2:\n",
      "        return 1\n",
      "    else:\n",
      "        return fibbonacci(n-1) + fibbonacci(n-2)\n"
     ],
     "language": "python",
     "metadata": {},
     "outputs": [],
     "prompt_number": 45
    },
    {
     "cell_type": "code",
     "collapsed": false,
     "input": [
      "# executing the doctests\n",
      "!python -m doctest -v fib.py"
     ],
     "language": "python",
     "metadata": {},
     "outputs": [
      {
       "output_type": "stream",
       "stream": "stdout",
       "text": [
        "Trying:\r\n",
        "    fibbonacci(1)\r\n",
        "Expecting:\r\n",
        "    1\r\n",
        "ok\r\n",
        "Trying:\r\n",
        "    fibbonacci(2)\r\n",
        "Expecting:\r\n",
        "    1\r\n",
        "ok\r\n",
        "Trying:\r\n",
        "    fibbonacci(3)\r\n",
        "Expecting:\r\n",
        "    2\r\n",
        "ok\r\n",
        "Trying:\r\n",
        "    fibbonacci(4)\r\n",
        "Expecting:\r\n",
        "    3\r\n",
        "ok\r\n",
        "Trying:\r\n",
        "    fibbonacci(5)\r\n",
        "Expecting:\r\n",
        "    5\r\n",
        "ok\r\n",
        "Trying:\r\n",
        "    fibbonacci(6)\r\n",
        "Expecting:\r\n",
        "    8\r\n",
        "ok\r\n",
        "1 items had no tests:\r\n",
        "    fib\r\n",
        "1 items passed all tests:\r\n",
        "   6 tests in fib.fibbonacci\r\n",
        "6 tests in 2 items.\r\n",
        "6 passed and 0 failed.\r\n",
        "Test passed.\r\n"
       ]
      }
     ],
     "prompt_number": 46
    },
    {
     "cell_type": "code",
     "collapsed": false,
     "input": [
      "#%load test_fib.py"
     ],
     "language": "python",
     "metadata": {},
     "outputs": [],
     "prompt_number": 64
    },
    {
     "cell_type": "code",
     "collapsed": false,
     "input": [
      "import unittest\n",
      "from fib import fibbonacci\n",
      "\n",
      "\n",
      "class TestFibbonacci(unittest.TestCase):\n",
      "    def test_definition(self):\n",
      "        self.assertEqual(fibbonacci(1), 1)\n",
      "        self.assertEqual(fibbonacci(2), 1)\n",
      "\n",
      "    def test_calculated_values(self):\n",
      "        self.assertEqual(fibbonacci(5), 5)\n",
      "        self.assertEqual(fibbonacci(6), 8)\n",
      "        \n",
      "if __name__ == \"__main__\":\n",
      "    unittest.main()"
     ],
     "language": "python",
     "metadata": {},
     "outputs": []
    },
    {
     "cell_type": "code",
     "collapsed": false,
     "input": [
      "!python test_fib.py"
     ],
     "language": "python",
     "metadata": {},
     "outputs": [
      {
       "output_type": "stream",
       "stream": "stdout",
       "text": [
        "..\r\n",
        "----------------------------------------------------------------------\r\n",
        "Ran 2 tests in 0.000s\r\n",
        "\r\n",
        "OK\r\n"
       ]
      }
     ],
     "prompt_number": 65
    },
    {
     "cell_type": "code",
     "collapsed": false,
     "input": [
      "!python -m unittest discover -v"
     ],
     "language": "python",
     "metadata": {},
     "outputs": [
      {
       "output_type": "stream",
       "stream": "stdout",
       "text": [
        "test_calculated_values (test_fib.TestFibbonacci) ... ok\r\n",
        "test_definition (test_fib.TestFibbonacci) ... ok\r\n",
        "\r\n",
        "----------------------------------------------------------------------\r\n",
        "Ran 2 tests in 0.000s\r\n",
        "\r\n",
        "OK\r\n"
       ]
      }
     ],
     "prompt_number": 66
    },
    {
     "cell_type": "markdown",
     "metadata": {},
     "source": [
      "# Python: Misc\n",
      "- [PyCharm](https://www.jetbrains.com/pycharm/)\n",
      "- IPython notebook; [example](http://nbviewer.ipython.org/github/CamDavidsonPilon/Probabilistic-Programming-and-Bayesian-Methods-for-Hackers/blob/master/Chapter1_Introduction/Chapter1_Introduction.ipynb)\n",
      "- Libraries: numpy and matplotlib"
     ]
    },
    {
     "cell_type": "code",
     "collapsed": false,
     "input": [
      "import numpy as np\n",
      "np.zeros((3, 3))"
     ],
     "language": "python",
     "metadata": {},
     "outputs": [
      {
       "metadata": {},
       "output_type": "pyout",
       "prompt_number": 67,
       "text": [
        "array([[ 0.,  0.,  0.],\n",
        "       [ 0.,  0.,  0.],\n",
        "       [ 0.,  0.,  0.]])"
       ]
      }
     ],
     "prompt_number": 67
    },
    {
     "cell_type": "code",
     "collapsed": false,
     "input": [
      "A = np.ones((3, 3))\n",
      "B = np.random.random((3, 3))\n",
      "A + B"
     ],
     "language": "python",
     "metadata": {},
     "outputs": [
      {
       "metadata": {},
       "output_type": "pyout",
       "prompt_number": 68,
       "text": [
        "array([[ 1.98576654,  1.44614643,  1.11975705],\n",
        "       [ 1.15635769,  1.8351095 ,  1.60432125],\n",
        "       [ 1.29961463,  1.08805211,  1.86086403]])"
       ]
      }
     ],
     "prompt_number": 68
    },
    {
     "cell_type": "code",
     "collapsed": false,
     "input": [
      "A * B  # element wise multiplication"
     ],
     "language": "python",
     "metadata": {},
     "outputs": [
      {
       "metadata": {},
       "output_type": "pyout",
       "prompt_number": 69,
       "text": [
        "array([[ 0.98576654,  0.44614643,  0.11975705],\n",
        "       [ 0.15635769,  0.8351095 ,  0.60432125],\n",
        "       [ 0.29961463,  0.08805211,  0.86086403]])"
       ]
      }
     ],
     "prompt_number": 69
    },
    {
     "cell_type": "code",
     "collapsed": false,
     "input": [
      "A.dot(B)  # matrix multiplication\n",
      "np.dot(A, B) "
     ],
     "language": "python",
     "metadata": {},
     "outputs": [
      {
       "metadata": {},
       "output_type": "pyout",
       "prompt_number": 70,
       "text": [
        "array([[ 1.44173887,  1.36930804,  1.58494233],\n",
        "       [ 1.44173887,  1.36930804,  1.58494233],\n",
        "       [ 1.44173887,  1.36930804,  1.58494233]])"
       ]
      }
     ],
     "prompt_number": 70
    },
    {
     "cell_type": "code",
     "collapsed": false,
     "input": [
      "%matplotlib inline\n",
      "import matplotlib.pyplot as plt\n",
      "plt.matshow(A);\n",
      "plt.matshow(B);"
     ],
     "language": "python",
     "metadata": {},
     "outputs": [
      {
       "metadata": {},
       "output_type": "display_data",
       "png": "[encoded data removed]",
       "text": [
        "<matplotlib.figure.Figure at 0x274c710>"
       ]
      },
      {
       "metadata": {},
       "output_type": "display_data",
       "png": "[encoded data removed]",
       "text": [
        "<matplotlib.figure.Figure at 0x274cdd0>"
       ]
      }
     ],
     "prompt_number": 71
    },
    {
     "cell_type": "markdown",
     "metadata": {},
     "source": [
      "# Exercises\n",
      "These exercises are meant as feedback for you. You should be able to use python to solve the exercises. You could also try and solve some old *Datenstrukturen und Algorithmen\" exercises*.\n",
      "\n",
      "**Again, if you have problems, ASK ME NOW**, (or see me after this lecture, or after the next AI lecture).\n",
      "\n",
      "- Write an recursive version of the fibbonacci function that uses memoization.\n",
      "- Write an iterative version of the fibbonacci function.\n",
      "- Write a version that uses tuples (`a, b = b, a+b`)\n",
      "\n",
      "\n",
      "## Project Euler\n",
      "The exercises are taken from [project euler](https://projecteuler.net/)."
     ]
    },
    {
     "cell_type": "code",
     "collapsed": false,
     "input": [
      "\"\"\"\n",
      "Project Euler Problem #1\n",
      "=========================\n",
      "\n",
      "If we list all the natural numbers below 10 that are multiples of 3 or 5,\n",
      "we get 3, 5, 6 and 9. The sum of these multiples is 23.\n",
      "\n",
      "Find the sum of all the multiples of 3 or 5 below 1000.\n",
      "\"\"\""
     ],
     "language": "python",
     "metadata": {},
     "outputs": []
    },
    {
     "cell_type": "code",
     "collapsed": false,
     "input": [
      "\"\"\"\n",
      "Project Euler Problem #2\n",
      "=========================\n",
      "\n",
      "Each new term in the Fibonacci sequence is generated by adding the\n",
      "previous two terms. By starting with 1 and 2, the first 10 terms will be:\n",
      "\n",
      "                  1, 2, 3, 5, 8, 13, 21, 34, 55, 89, ...\n",
      "\n",
      "Find the sum of all the even-valued terms in the sequence which do not\n",
      "exceed four million.\n",
      "\"\"\""
     ],
     "language": "python",
     "metadata": {},
     "outputs": []
    },
    {
     "cell_type": "code",
     "collapsed": false,
     "input": [
      "\"\"\"\n",
      "Project Euler Problem #4\n",
      "=========================\n",
      "\n",
      "A palindromic number reads the same both ways. The largest palindrome made\n",
      "from the product of two 2-digit numbers is 9009 = 91 * 99.\n",
      "\n",
      "Find the largest palindrome made from the product of two 3-digit numbers.\n",
      "\"\"\""
     ],
     "language": "python",
     "metadata": {},
     "outputs": []
    }
   ],
   "metadata": {}
  }
 ]
}