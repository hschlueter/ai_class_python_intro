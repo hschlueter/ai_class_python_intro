{
 "metadata": {
  "name": "",
  "signature": "sha256:490b298789120dcf6c7174ae8e053babe0989c36a0738c387bec39a0357be733"
 },
 "nbformat": 3,
 "nbformat_minor": 0,
 "worksheets": [
  {
   "cells": [
    {
     "cell_type": "markdown",
     "metadata": {},
     "source": [
      "# Python: Intro/Misc\n",
      "\n",
      "www.python.org about python:\n",
      "> Python is a programming language that lets you work more quickly and integrate your systems more effectively.\"\n",
      "\n",
      "\n",
      "Wikipedia about python:\n",
      "> Python is a widely used general-purpose, high-level programming language. Its design philosophy emphasizes code readability, and its syntax allows programmers to express concepts in fewer lines of code than would be possible in languages such as C. The language provides constructs intended to enable clear programs on both a small and large scale.\n",
      ">\n",
      "> Python supports multiple programming paradigms, including object-oriented, imperative and functional programming or procedural styles. It features a dynamic type system and automatic memory management and has a large and comprehensive standard library.\"\n",
      "\n",
      "XKCD about python:\n",
      "\n",
      "\n",
      "Notes:\n",
      "- Python is different from Java\n",
      "- INDENTATION: use 4 spaces\n",
      "- [PEP8](http://legacy.python.org/dev/peps/pep-0008/) style guide\n",
      "- Interactive and REPL: python, ipython, bpython\n",
      "- [PyCharm](https://www.jetbrains.com/pycharm/)\n",
      "- help() and ?\n",
      "- type() and dir()\n",
      "- IPython notebook"
     ]
    },
    {
     "cell_type": "markdown",
     "metadata": {},
     "source": [
      "# Python: Control Flow"
     ]
    },
    {
     "cell_type": "code",
     "collapsed": false,
     "input": [
      "# if/elif/else\n",
      "a = 4\n",
      "if a > 5:\n",
      "    print \"bigger than 5\"\n",
      "elif a == 5:\n",
      "    print \"FIVE\"\n",
      "else:\n",
      "    print 'something else: ' + str(a)"
     ],
     "language": "python",
     "metadata": {},
     "outputs": [],
     "prompt_number": null
    },
    {
     "cell_type": "code",
     "collapsed": false,
     "input": [
      "a = 4\n",
      "a = \"bigger\" if a > 3 else \"smaller\"\n",
      "a"
     ],
     "language": "python",
     "metadata": {},
     "outputs": [],
     "prompt_number": null
    },
    {
     "cell_type": "code",
     "collapsed": false,
     "input": [
      "# for\n",
      "for i in range(2):\n",
      "    print i"
     ],
     "language": "python",
     "metadata": {},
     "outputs": [],
     "prompt_number": null
    },
    {
     "cell_type": "code",
     "collapsed": false,
     "input": [
      "movies = [\"Her\", \"Moon\", \"Pacific Rim\", \"Robot and Frank\"]\n",
      "for movie in movies:\n",
      "    print movie"
     ],
     "language": "python",
     "metadata": {},
     "outputs": [],
     "prompt_number": null
    },
    {
     "cell_type": "code",
     "collapsed": false,
     "input": [
      "for i, movie in enumerate(movies):\n",
      "    print i, movie"
     ],
     "language": "python",
     "metadata": {},
     "outputs": [],
     "prompt_number": null
    },
    {
     "cell_type": "code",
     "collapsed": false,
     "input": [
      "# while\n",
      "i = 0\n",
      "while True:\n",
      "    print i\n",
      "    i += 1\n",
      "    if i > 5:\n",
      "        break"
     ],
     "language": "python",
     "metadata": {},
     "outputs": [],
     "prompt_number": null
    },
    {
     "cell_type": "markdown",
     "metadata": {},
     "source": [
      "# Python: Data Structures"
     ]
    },
    {
     "cell_type": "code",
     "collapsed": false,
     "input": [
      "# list\n",
      "print list()\n",
      "print []"
     ],
     "language": "python",
     "metadata": {},
     "outputs": [],
     "prompt_number": null
    },
    {
     "cell_type": "code",
     "collapsed": false,
     "input": [
      "movies = [\"Her\", \"Moon\", \"Pacific Rim\", \"Robot and Frank\"]\n",
      "movies"
     ],
     "language": "python",
     "metadata": {},
     "outputs": [],
     "prompt_number": null
    },
    {
     "cell_type": "code",
     "collapsed": false,
     "input": [
      "movies.append(another robot movie)"
     ],
     "language": "python",
     "metadata": {},
     "outputs": [],
     "prompt_number": null
    },
    {
     "cell_type": "code",
     "collapsed": false,
     "input": [
      "movies = movies + [\"Nummer 5\", \"I, Robot\", \"2001\"]\n",
      "movies"
     ],
     "language": "python",
     "metadata": {},
     "outputs": [],
     "prompt_number": null
    },
    {
     "cell_type": "code",
     "collapsed": false,
     "input": [
      "# slicing\n",
      "print movies\n",
      "print movies[0]"
     ],
     "language": "python",
     "metadata": {},
     "outputs": [],
     "prompt_number": null
    },
    {
     "cell_type": "code",
     "collapsed": false,
     "input": [
      "print movies[1]"
     ],
     "language": "python",
     "metadata": {},
     "outputs": [],
     "prompt_number": null
    },
    {
     "cell_type": "code",
     "collapsed": false,
     "input": [
      "print movies[0:2]"
     ],
     "language": "python",
     "metadata": {},
     "outputs": [],
     "prompt_number": null
    },
    {
     "cell_type": "code",
     "collapsed": false,
     "input": [
      "print movies[:2]"
     ],
     "language": "python",
     "metadata": {},
     "outputs": [],
     "prompt_number": null
    },
    {
     "cell_type": "code",
     "collapsed": false,
     "input": [
      "print movies[-1]"
     ],
     "language": "python",
     "metadata": {},
     "outputs": [],
     "prompt_number": null
    },
    {
     "cell_type": "code",
     "collapsed": false,
     "input": [
      "print movies[-2]"
     ],
     "language": "python",
     "metadata": {},
     "outputs": [],
     "prompt_number": null
    },
    {
     "cell_type": "code",
     "collapsed": false,
     "input": [
      "print movies[::2]"
     ],
     "language": "python",
     "metadata": {},
     "outputs": [],
     "prompt_number": null
    },
    {
     "cell_type": "code",
     "collapsed": false,
     "input": [
      "# Dictionaries\n",
      "print dict()\n",
      "print {}"
     ],
     "language": "python",
     "metadata": {},
     "outputs": [],
     "prompt_number": null
    },
    {
     "cell_type": "code",
     "collapsed": false,
     "input": [
      "d = {\"Her\": 4,\n",
      "     \"Moon\": 5,\n",
      "     \"Pacific Rim\": 5,\n",
      "     \"Robot and Frank\": 4.}\n",
      "d"
     ],
     "language": "python",
     "metadata": {},
     "outputs": [],
     "prompt_number": null
    },
    {
     "cell_type": "code",
     "collapsed": false,
     "input": [
      "d[\"Her\"]"
     ],
     "language": "python",
     "metadata": {},
     "outputs": [],
     "prompt_number": null
    },
    {
     "cell_type": "code",
     "collapsed": false,
     "input": [
      "\"Her\" in d"
     ],
     "language": "python",
     "metadata": {},
     "outputs": [],
     "prompt_number": null
    },
    {
     "cell_type": "code",
     "collapsed": false,
     "input": [
      "d.keys()"
     ],
     "language": "python",
     "metadata": {},
     "outputs": [],
     "prompt_number": null
    },
    {
     "cell_type": "code",
     "collapsed": false,
     "input": [
      "d.values()"
     ],
     "language": "python",
     "metadata": {},
     "outputs": [],
     "prompt_number": null
    },
    {
     "cell_type": "code",
     "collapsed": false,
     "input": [
      "for k in d:\n",
      "    print k, \"--\", d[k]"
     ],
     "language": "python",
     "metadata": {},
     "outputs": [],
     "prompt_number": null
    },
    {
     "cell_type": "code",
     "collapsed": false,
     "input": [
      "# tuples\n",
      "3, 4"
     ],
     "language": "python",
     "metadata": {},
     "outputs": [],
     "prompt_number": null
    },
    {
     "cell_type": "code",
     "collapsed": false,
     "input": [
      "(3, 4)"
     ],
     "language": "python",
     "metadata": {},
     "outputs": [],
     "prompt_number": null
    },
    {
     "cell_type": "code",
     "collapsed": false,
     "input": [
      "type((3,4))"
     ],
     "language": "python",
     "metadata": {},
     "outputs": [],
     "prompt_number": null
    },
    {
     "cell_type": "code",
     "collapsed": false,
     "input": [
      "t = 3, 4\n",
      "print t[0]\n",
      "print t[1]"
     ],
     "language": "python",
     "metadata": {},
     "outputs": [],
     "prompt_number": null
    },
    {
     "cell_type": "code",
     "collapsed": false,
     "input": [
      "# set\n",
      "set([3, 3, 3, 2, 2, 1])"
     ],
     "language": "python",
     "metadata": {},
     "outputs": [],
     "prompt_number": null
    },
    {
     "cell_type": "markdown",
     "metadata": {},
     "source": [
      "## List Comprehension Example"
     ]
    },
    {
     "cell_type": "code",
     "collapsed": false,
     "input": [
      "[i*i for i in range(10)]"
     ],
     "language": "python",
     "metadata": {},
     "outputs": [],
     "prompt_number": null
    },
    {
     "cell_type": "code",
     "collapsed": false,
     "input": [
      "[i for i in range(10) if i % 2]"
     ],
     "language": "python",
     "metadata": {},
     "outputs": [],
     "prompt_number": null
    },
    {
     "cell_type": "markdown",
     "metadata": {},
     "source": [
      "Let's implement [entropy function](http://en.wikipedia.org/wiki/Entropy_%28information_theory%29#Definition)\n",
      "$$\n",
      "    H(X) = - \\sum_i P(x_i) \\log P(x_i)\n",
      "$$"
     ]
    },
    {
     "cell_type": "code",
     "collapsed": false,
     "input": [
      "from __future__ import division\n",
      "from math import log\n",
      "import numpy as np\n",
      "import operator\n",
      "from numpy import prod\n",
      "\n",
      "l = [.3, .1, .6]\n",
      "# YOUR TURN"
     ],
     "language": "python",
     "metadata": {},
     "outputs": [],
     "prompt_number": null
    },
    {
     "cell_type": "markdown",
     "metadata": {},
     "source": [
      "Compute Pi using the [Wallis product](http://en.wikipedia.org/wiki/Wallis_product):\n",
      "$$\n",
      "\\pi \\approx 2 \\prod_{i=1}^{\\infty} \\frac{4i^2}{4i^2 -1}\n",
      "$$"
     ]
    },
    {
     "cell_type": "code",
     "collapsed": true,
     "input": [
      "def prod(iterable):\n",
      "    return reduce(operator.mul, iterable, 1)\n",
      "\n",
      "# YOUR TURN"
     ],
     "language": "python",
     "metadata": {},
     "outputs": [],
     "prompt_number": null
    },
    {
     "cell_type": "markdown",
     "metadata": {},
     "source": [
      "# Python: Functions and Classes"
     ]
    },
    {
     "cell_type": "code",
     "collapsed": false,
     "input": [
      "def square(x):\n",
      "    \"\"\"Documentation of square.\"\"\"\n",
      "    return x * x\n",
      "\n",
      "square(5)"
     ],
     "language": "python",
     "metadata": {},
     "outputs": [],
     "prompt_number": null
    },
    {
     "cell_type": "code",
     "collapsed": false,
     "input": [
      "class Node(object):\n",
      "    \"\"\"Doc of the class.\n",
      "    \n",
      "    Sometimes the c'tor is documented here.\n",
      "    \n",
      "    \"\"\"\n",
      "    def __init__(self, value=None, left=None, right=None):\n",
      "        self.value = value\n",
      "        self.left = left\n",
      "        self.right = right\n",
      "    \n",
      "    def cut(self):\n",
      "        \"\"\"Doc of the function cut.\"\"\"\n",
      "        self.left = None\n",
      "        self.right = None\n",
      "\n",
      "        \n",
      "tree = Node(\"lecture\", Node(\"python\"), Node(\"git\"))\n",
      "print tree\n",
      "print tree.value\n",
      "print tree.left.value"
     ],
     "language": "python",
     "metadata": {},
     "outputs": [],
     "prompt_number": null
    },
    {
     "cell_type": "code",
     "collapsed": false,
     "input": [
      "class Node(object):\n",
      "    def __init__(self, value=None, left=None, right=None):\n",
      "        self.value = value\n",
      "        self.left = left\n",
      "        self.right = right\n",
      "    \n",
      "    def cut(self):\n",
      "        self.left = None\n",
      "        self.right = None\n",
      "        \n",
      "    def children(self):\n",
      "        return self.left, self.right\n",
      "    \n",
      "    def __str__(self):\n",
      "        return str([\"{}: {}\".format(c.value, c)\n",
      "                    for c in self.children() if c])\n",
      "        \n",
      "tree = Node(\"lecture\", Node(\"python\"), Node(\"git\"))\n",
      "print tree\n",
      "print tree.value\n",
      "print tree.left.value"
     ],
     "language": "python",
     "metadata": {},
     "outputs": [],
     "prompt_number": null
    },
    {
     "cell_type": "code",
     "collapsed": false,
     "input": [
      "tree = Node(\"lecture\",\n",
      "            Node(\"python\", Node(\"data structures\"), Node(\"Control\")),\n",
      "            Node(\"git\"))\n",
      "print tree"
     ],
     "language": "python",
     "metadata": {},
     "outputs": [],
     "prompt_number": null
    },
    {
     "cell_type": "markdown",
     "metadata": {},
     "source": [
      "# Doctest and Unittests"
     ]
    },
    {
     "cell_type": "code",
     "collapsed": false,
     "input": [
      "%load fib.py"
     ],
     "language": "python",
     "metadata": {},
     "outputs": [],
     "prompt_number": null
    },
    {
     "cell_type": "code",
     "collapsed": false,
     "input": [
      "%load test_fib.py"
     ],
     "language": "python",
     "metadata": {},
     "outputs": [],
     "prompt_number": null
    },
    {
     "cell_type": "markdown",
     "metadata": {},
     "source": [
      "# Python: Misc\n",
      "- PyCharm\n",
      "- IPython notebook\n",
      "- Libraries: numpy and matplotlib"
     ]
    },
    {
     "cell_type": "code",
     "collapsed": false,
     "input": [
      "import numpy as np\n",
      "np.zeros((3, 3))"
     ],
     "language": "python",
     "metadata": {},
     "outputs": [],
     "prompt_number": null
    },
    {
     "cell_type": "code",
     "collapsed": false,
     "input": [
      "A = np.ones((3, 3))\n",
      "B = np.random.random((3, 3))\n",
      "A + B"
     ],
     "language": "python",
     "metadata": {},
     "outputs": [],
     "prompt_number": null
    },
    {
     "cell_type": "code",
     "collapsed": false,
     "input": [
      "A * B  # element wise multiplication"
     ],
     "language": "python",
     "metadata": {},
     "outputs": [],
     "prompt_number": null
    },
    {
     "cell_type": "code",
     "collapsed": false,
     "input": [
      "A.dot(B)  # matrix multiplication\n",
      "np.dot(A, B) "
     ],
     "language": "python",
     "metadata": {},
     "outputs": [],
     "prompt_number": null
    },
    {
     "cell_type": "markdown",
     "metadata": {},
     "source": [
      "# Exercises: Project Euler\n",
      "These exercises are meant as feedback for you. You should be able to use python to solve the exercises. The exercises are taken from [project euler](https://projecteuler.net/). You could also try and solve some old *Datenstrukturen und Algorithmen\" exercises*.\n",
      "\n",
      "**Again, if you have problems, see me after the next AI lecture.**"
     ]
    },
    {
     "cell_type": "code",
     "collapsed": false,
     "input": [
      "\"\"\"\n",
      "Project Euler Problem #1\n",
      "=========================\n",
      "\n",
      "If we list all the natural numbers below 10 that are multiples of 3 or 5,\n",
      "we get 3, 5, 6 and 9. The sum of these multiples is 23.\n",
      "\n",
      "Find the sum of all the multiples of 3 or 5 below 1000.\n",
      "\"\"\""
     ],
     "language": "python",
     "metadata": {},
     "outputs": []
    },
    {
     "cell_type": "code",
     "collapsed": false,
     "input": [
      "\"\"\"\n",
      "Project Euler Problem #2\n",
      "=========================\n",
      "\n",
      "Each new term in the Fibonacci sequence is generated by adding the\n",
      "previous two terms. By starting with 1 and 2, the first 10 terms will be:\n",
      "\n",
      "                  1, 2, 3, 5, 8, 13, 21, 34, 55, 89, ...\n",
      "\n",
      "Find the sum of all the even-valued terms in the sequence which do not\n",
      "exceed four million.\n",
      "\"\"\""
     ],
     "language": "python",
     "metadata": {},
     "outputs": []
    },
    {
     "cell_type": "code",
     "collapsed": false,
     "input": [
      "\"\"\"\n",
      "Project Euler Problem #4\n",
      "=========================\n",
      "\n",
      "A palindromic number reads the same both ways. The largest palindrome made\n",
      "from the product of two 2-digit numbers is 9009 = 91 * 99.\n",
      "\n",
      "Find the largest palindrome made from the product of two 3-digit numbers.\n",
      "\"\"\""
     ],
     "language": "python",
     "metadata": {},
     "outputs": [],
     "prompt_number": null
    }
   ],
   "metadata": {}
  }
 ]
}