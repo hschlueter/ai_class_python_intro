{
 "cells": [
  {
   "cell_type": "markdown",
   "metadata": {},
   "source": [
    "# Git\n",
    "A distributed version control system. These are the main concepts of git:\n",
    "![git concepts](git_concepts.png)\n",
    "`git pull` is the same as a `git fetch` followed by a `git merge`.\n",
    "\n",
    "## Settings\n",
    "Before you do anything do the following:\n",
    "```\n",
    "$ git config --global user.name \"John Doe\"\n",
    "$ git config --global user.email johndoe@example.com\n",
    "$ git config --global color.ui true\n",
    "```\n",
    "\n",
    "Create a SSH key (if you don’t already have one) and upload it to gitlab (in your profile at “Profile Settings” and “SSH Keys”).\n",
    "```\n",
    "$ ssh-keygen\n",
    "$ cat ~/.ssh/id_rsa.pub\n",
    "Clone your repository with:\n",
    "$ git clone git@sully.informatik.uni-stuttgart.de:ai_lecture/group_[GROUP_NUMBER].git\n",
    "```\n",
    "\n",
    "You can run the tests by executing:\n",
    "```\n",
    "$ sh run_tests.sh\n",
    "```\n",
    "\n",
    "If you are done implementing the exercise simply commit your implementation and push it to our server.\n",
    "```\n",
    "$ git add dateiname.py\n",
    "$ git commit -m \"xyz\"\n",
    "$ git push\n",
    "```"
   ]
  }
 ],
 "metadata": {
  "kernelspec": {
   "display_name": "Python 2",
   "language": "python",
   "name": "python2"
  },
  "language_info": {
   "codemirror_mode": {
    "name": "ipython",
    "version": 2
   },
   "file_extension": ".py",
   "mimetype": "text/x-python",
   "name": "python",
   "nbconvert_exporter": "python",
   "pygments_lexer": "ipython2",
   "version": "2.7.10"
  }
 },
 "nbformat": 4,
 "nbformat_minor": 0
}
