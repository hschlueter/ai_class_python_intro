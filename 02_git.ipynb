{
 "metadata": {
  "name": "",
  "signature": "sha256:dc8023720e4f69b8bda882a977b3d5c7008a12e1e5515faac5a60772e7823bca"
 },
 "nbformat": 3,
 "nbformat_minor": 0,
 "worksheets": [
  {
   "cells": [
    {
     "cell_type": "markdown",
     "metadata": {},
     "source": [
      "# Git\n",
      "A distributed version control system.\n",
      "![git concepts](git_concepts.png)\n",
      "\n",
      "## Settings\n",
      "\n",
      "```\n",
      "$ git config --global user.name \"John Doe\"\n",
      "$ git config --global user.email johndoe@example.com\n",
      "$ git config --global color.ui true\n",
      "```\n",
      "\n",
      "## Demo"
     ]
    }
   ],
   "metadata": {}
  }
 ]
}