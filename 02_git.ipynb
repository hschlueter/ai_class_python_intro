{
 "metadata": {
  "name": "",
  "signature": "sha256:c02bda0fe2fa9c2bee6642af314a0edb725feb740a72c25647327bb8423bd36e"
 },
 "nbformat": 3,
 "nbformat_minor": 0,
 "worksheets": [
  {
   "cells": [
    {
     "cell_type": "markdown",
     "metadata": {},
     "source": [
      "# Git\n",
      "![git concepts](git_concepts.png)\n",
      "\n",
      "## Settings\n",
      "\n",
      "```\n",
      "$ git config --global user.name \"John Doe\"\n",
      "$ git config --global user.email johndoe@example.com\n",
      "$ git config --global color.ui true\n",
      "```"
     ]
    },
    {
     "cell_type": "code",
     "collapsed": false,
     "input": [],
     "language": "python",
     "metadata": {},
     "outputs": []
    }
   ],
   "metadata": {}
  }
 ]
}