{
 "cells": [
  {
   "cell_type": "markdown",
   "metadata": {},
   "source": [
    "# Git\n",
    "A distributed version control system. These are the main concepts of git:\n",
    "![git concepts](git_concepts.png)\n",
    "`git pull` is the same as a `git fetch` followed by a `git merge`.\n",
    "\n",
    "## Settings\n",
    "Before you do anything do the following:\n",
    "```\n",
    "$ git config --global user.name \"John Doe\"\n",
    "$ git config --global user.email johndoe@example.com\n",
    "$ git config --global color.ui true\n",
    "```\n",
    "\n",
    "## Demo\n",
    "This is what I did during the git demo\n",
    "```\n",
    "stefan@arbeitstier ~ % cd tmp\n",
    "stefan@arbeitstier ~/tmp % mkdir git_demo\n",
    "stefan@arbeitstier ~/tmp % cd git_demo\n",
    "stefan@arbeitstier ~/tmp/git_demo % git init\n",
    "Initialized empty Git repository in /home/stefan/tmp/git_demo/.git/\n",
    "stefan@arbeitstier ~/tmp/git_demo (git)-[master] % echo \"Test\" > README\n",
    "stefan@arbeitstier ~/tmp/git_demo (git)-[master] % git status\n",
    "# On branch master\n",
    "#\n",
    "# Initial commit\n",
    "#\n",
    "# Untracked files:\n",
    "#   (use \"git add <file>...\" to include in what will be committed)\n",
    "#\n",
    "#       README\n",
    "nothing added to commit but untracked files present (use \"git add\" to track)\n",
    "stefan@arbeitstier ~/tmp/git_demo (git)-[master] % git add README\n",
    "stefan@arbeitstier ~/tmp/git_demo (git)-[master] % git status\n",
    "# On branch master\n",
    "#\n",
    "# Initial commit\n",
    "#\n",
    "# Changes to be committed:\n",
    "#   (use \"git rm --cached <file>...\" to unstage)\n",
    "#\n",
    "#       new file:   README\n",
    "#\n",
    "stefan@arbeitstier ~/tmp/git_demo (git)-[master] % git commit\n",
    "[master (root-commit) 615d9f7] Add README.\n",
    " 1 file changed, 1 insertion(+)\n",
    " create mode 100644 README\n",
    "stefan@arbeitstier ~/tmp/git_demo (git)-[master] % git status\n",
    "# On branch master\n",
    "nothing to commit (working directory clean)\n",
    "```"
   ]
  }
 ],
 "metadata": {
  "kernelspec": {
   "display_name": "Python 2",
   "language": "python",
   "name": "python2"
  },
  "language_info": {
   "codemirror_mode": {
    "name": "ipython",
    "version": 2
   },
   "file_extension": ".py",
   "mimetype": "text/x-python",
   "name": "python",
   "nbconvert_exporter": "python",
   "pygments_lexer": "ipython2",
   "version": "2.7.10"
  }
 },
 "nbformat": 4,
 "nbformat_minor": 0
}
